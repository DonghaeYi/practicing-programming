{
 "cells": [
  {
   "cell_type": "markdown",
   "metadata": {},
   "source": [
    "# Day 19"
   ]
  },
  {
   "cell_type": "markdown",
   "metadata": {},
   "source": [
    "## LeetCode"
   ]
  },
  {
   "cell_type": "markdown",
   "metadata": {},
   "source": [
    "### 3. Longest Substring Without Repeating Characters"
   ]
  },
  {
   "cell_type": "markdown",
   "metadata": {},
   "source": [
    "#### Before:"
   ]
  },
  {
   "cell_type": "code",
   "execution_count": 1,
   "metadata": {},
   "outputs": [],
   "source": [
    "# This fails the test case \"dvdf\" because it only returns 2, but the correct answer is 3. I need to find a way to keep track of the index of the repeating character.\n",
    "class Solution:\n",
    "    def lengthOfLongestSubstring(self, s: str) -> int:\n",
    "        my_list = []    # Keep track of characters\n",
    "        length, longest = 0, 0  # We will be comparing these 2 variables to keep track of the longest length substring without repeating characters\n",
    "\n",
    "        if s == \"\":\n",
    "            return 0\n",
    "        elif s == \" \":\n",
    "            return 1\n",
    "        else:\n",
    "            for i in s: # Loop through string\n",
    "                if i not in my_list:    # If the char is not in the list, add it into the list\n",
    "                    my_list.append(i)\n",
    "                    length = len(my_list)   # Update the current length of the list\n",
    "                else:\n",
    "                    if longest <= length:   # Compare the current length of the list with the longest length substring, and update it if needed\n",
    "                        longest = length\n",
    "\n",
    "                    my_list.clear() # Clear the list to compare the next substring\n",
    "                    my_list.append(i)   # We have to append here, or we will skip the first char of the next substring\n",
    "                    length = len(my_list)\n",
    "        \n",
    "        if longest <= length:\n",
    "            longest = length\n",
    "        \n",
    "        return longest  # Return the length of the longest substring"
   ]
  },
  {
   "cell_type": "markdown",
   "metadata": {},
   "source": [
    "#### After:"
   ]
  },
  {
   "cell_type": "code",
   "execution_count": null,
   "metadata": {},
   "outputs": [],
   "source": [
    "class Solution:\n",
    "    def lengthOfLongestSubstring(self, s: str) -> int:\n",
    "        char_set = set()    # Sets don't allow duplicates\n",
    "        l = 0   # Left pointer\n",
    "        result = 0  # Return value\n",
    "\n",
    "        for r in range(len(s)):\n",
    "            while s[r] in char_set:\n",
    "                char_set.remove(s[l])   # Remove from the left\n",
    "                l += 1  # Increment left pointer\n",
    "            char_set.add(s[r])  # Add to the right\n",
    "            result = max(result, r - l + 1) # Compare the current result with the length of the substring\n",
    "\n",
    "        return result"
   ]
  }
 ],
 "metadata": {
  "kernelspec": {
   "display_name": "Python 3",
   "language": "python",
   "name": "python3"
  },
  "language_info": {
   "codemirror_mode": {
    "name": "ipython",
    "version": 3
   },
   "file_extension": ".py",
   "mimetype": "text/x-python",
   "name": "python",
   "nbconvert_exporter": "python",
   "pygments_lexer": "ipython3",
   "version": "3.9.19"
  }
 },
 "nbformat": 4,
 "nbformat_minor": 2
}
