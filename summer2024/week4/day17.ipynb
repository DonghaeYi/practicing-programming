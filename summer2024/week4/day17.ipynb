{
 "cells": [
  {
   "cell_type": "markdown",
   "id": "9ce32634-f0ff-40ae-8ebf-7e31df048112",
   "metadata": {},
   "source": [
    "# Day 16"
   ]
  },
  {
   "cell_type": "markdown",
   "id": "e62ad35f-53c5-4c17-877a-40fe946aa130",
   "metadata": {},
   "source": [
    "## LeetCode"
   ]
  },
  {
   "cell_type": "markdown",
   "id": "43dcf313-2d7b-418e-bde8-d1a1fbc3d6fa",
   "metadata": {},
   "source": [
    "### 94. Binary Tree Inorder Traversal"
   ]
  },
  {
   "cell_type": "markdown",
   "id": "13d8a620-4745-48dc-9b9d-b046292d9620",
   "metadata": {},
   "source": [
    "#### Before:"
   ]
  },
  {
   "cell_type": "code",
   "execution_count": 1,
   "id": "27e2d5d4-8607-43cb-885a-2a09fa82eee8",
   "metadata": {},
   "outputs": [
    {
     "ename": "NameError",
     "evalue": "name 'Optional' is not defined",
     "output_type": "error",
     "traceback": [
      "\u001b[0;31m---------------------------------------------------------------------------\u001b[0m",
      "\u001b[0;31mNameError\u001b[0m                                 Traceback (most recent call last)",
      "Cell \u001b[0;32mIn[1], line 8\u001b[0m\n\u001b[1;32m      1\u001b[0m \u001b[38;5;66;03m# ************* Recursive Solution *************\u001b[39;00m\n\u001b[1;32m      2\u001b[0m \u001b[38;5;66;03m# Definition for a binary tree node.\u001b[39;00m\n\u001b[1;32m      3\u001b[0m \u001b[38;5;66;03m# class TreeNode:\u001b[39;00m\n\u001b[0;32m   (...)\u001b[0m\n\u001b[1;32m      6\u001b[0m \u001b[38;5;66;03m#         self.left = left\u001b[39;00m\n\u001b[1;32m      7\u001b[0m \u001b[38;5;66;03m#         self.right = right\u001b[39;00m\n\u001b[0;32m----> 8\u001b[0m \u001b[38;5;28;01mclass\u001b[39;00m \u001b[38;5;21;01mSolution\u001b[39;00m:\n\u001b[1;32m      9\u001b[0m     \u001b[38;5;28;01mdef\u001b[39;00m \u001b[38;5;21minorderTraversal\u001b[39m(\u001b[38;5;28mself\u001b[39m, root: Optional[TreeNode]) \u001b[38;5;241m-\u001b[39m\u001b[38;5;241m>\u001b[39m List[\u001b[38;5;28mint\u001b[39m]:\n\u001b[1;32m     10\u001b[0m         my_list \u001b[38;5;241m=\u001b[39m []    \u001b[38;5;66;03m# List to return\u001b[39;00m\n",
      "Cell \u001b[0;32mIn[1], line 9\u001b[0m, in \u001b[0;36mSolution\u001b[0;34m()\u001b[0m\n\u001b[1;32m      8\u001b[0m \u001b[38;5;28;01mclass\u001b[39;00m \u001b[38;5;21;01mSolution\u001b[39;00m:\n\u001b[0;32m----> 9\u001b[0m     \u001b[38;5;28;01mdef\u001b[39;00m \u001b[38;5;21minorderTraversal\u001b[39m(\u001b[38;5;28mself\u001b[39m, root: \u001b[43mOptional\u001b[49m[TreeNode]) \u001b[38;5;241m-\u001b[39m\u001b[38;5;241m>\u001b[39m List[\u001b[38;5;28mint\u001b[39m]:\n\u001b[1;32m     10\u001b[0m         my_list \u001b[38;5;241m=\u001b[39m []    \u001b[38;5;66;03m# List to return\u001b[39;00m\n\u001b[1;32m     12\u001b[0m         \u001b[38;5;28;01mdef\u001b[39;00m \u001b[38;5;21mhelper\u001b[39m(node):   \u001b[38;5;66;03m# Helper function\u001b[39;00m\n",
      "\u001b[0;31mNameError\u001b[0m: name 'Optional' is not defined"
     ]
    }
   ],
   "source": [
    "# ************* Recursive Solution *************\n",
    "# Definition for a binary tree node.\n",
    "# class TreeNode:\n",
    "#     def __init__(self, val=0, left=None, right=None):\n",
    "#         self.val = val\n",
    "#         self.left = left\n",
    "#         self.right = right\n",
    "class Solution:\n",
    "    def inorderTraversal(self, root: Optional[TreeNode]) -> List[int]:\n",
    "        my_list = []    # List to return\n",
    "\n",
    "        def helper(node):   # Helper function\n",
    "            if not node:    # Base case, null node\n",
    "                return\n",
    "            # Inorder traversal\n",
    "            helper(node.left)   # Go left\n",
    "            my_list.append(node.val)    # Append to list\n",
    "            helper(node.right)  # Go right\n",
    "        \n",
    "        helper(root)    # Call helper function\n",
    "\n",
    "        return my_list"
   ]
  },
  {
   "cell_type": "markdown",
   "id": "547db2f0-f13f-49fd-98b9-063874a5d62c",
   "metadata": {},
   "source": [
    "#### After:"
   ]
  },
  {
   "cell_type": "code",
   "execution_count": null,
   "id": "07f5e277-9564-43a9-abb2-8c04178f0fc2",
   "metadata": {},
   "outputs": [],
   "source": [
    "# ************* Iterative Solution *************\n",
    "# Definition for a binary tree node.\n",
    "# class TreeNode:\n",
    "#     def __init__(self, val=0, left=None, right=None):\n",
    "#         self.val = val\n",
    "#         self.left = left\n",
    "#         self.right = right\n",
    "class Solution:\n",
    "    def inorderTraversal(self, root: Optional[TreeNode]) -> List[int]:\n",
    "        my_list = []    # List to return\n",
    "\n",
    "        stack = []  # Use a stack\n",
    "        curr = root\n",
    "\n",
    "        while curr or stack:    # While stack is not empty and node is not null\n",
    "            while curr: # Go left\n",
    "                stack.append(curr)  # Populate stack till null\n",
    "                curr = curr.left\n",
    "            curr = stack.pop()  # Reached null, pop from stack\n",
    "            my_list.append(curr.val)    # Append value\n",
    "            curr = curr.right   # Check right since we reached null going left\n",
    "        \n",
    "        return my_list"
   ]
  }
 ],
 "metadata": {
  "kernelspec": {
   "display_name": "Python 3 (ipykernel)",
   "language": "python",
   "name": "python3"
  },
  "language_info": {
   "codemirror_mode": {
    "name": "ipython",
    "version": 3
   },
   "file_extension": ".py",
   "mimetype": "text/x-python",
   "name": "python",
   "nbconvert_exporter": "python",
   "pygments_lexer": "ipython3",
   "version": "3.9.19"
  }
 },
 "nbformat": 4,
 "nbformat_minor": 5
}
