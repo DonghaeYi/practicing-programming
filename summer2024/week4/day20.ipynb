{
 "cells": [
  {
   "cell_type": "markdown",
   "metadata": {},
   "source": [
    "# Day 20"
   ]
  },
  {
   "cell_type": "markdown",
   "metadata": {},
   "source": [
    "## LeetCode"
   ]
  },
  {
   "cell_type": "markdown",
   "metadata": {},
   "source": [
    "### 100. Same Tree"
   ]
  },
  {
   "cell_type": "markdown",
   "metadata": {},
   "source": [
    "#### Before:"
   ]
  },
  {
   "cell_type": "code",
   "execution_count": 2,
   "metadata": {},
   "outputs": [
    {
     "ename": "NameError",
     "evalue": "name 'Optional' is not defined",
     "output_type": "error",
     "traceback": [
      "\u001b[0;31m---------------------------------------------------------------------------\u001b[0m",
      "\u001b[0;31mNameError\u001b[0m                                 Traceback (most recent call last)",
      "Cell \u001b[0;32mIn[2], line 7\u001b[0m\n\u001b[1;32m      1\u001b[0m \u001b[38;5;66;03m# Definition for a binary tree node.\u001b[39;00m\n\u001b[1;32m      2\u001b[0m \u001b[38;5;66;03m# class TreeNode:\u001b[39;00m\n\u001b[1;32m      3\u001b[0m \u001b[38;5;66;03m#     def __init__(self, val=0, left=None, right=None):\u001b[39;00m\n\u001b[1;32m      4\u001b[0m \u001b[38;5;66;03m#         self.val = val\u001b[39;00m\n\u001b[1;32m      5\u001b[0m \u001b[38;5;66;03m#         self.left = left\u001b[39;00m\n\u001b[1;32m      6\u001b[0m \u001b[38;5;66;03m#         self.right = right\u001b[39;00m\n\u001b[0;32m----> 7\u001b[0m \u001b[38;5;28;01mclass\u001b[39;00m \u001b[38;5;21;01mSolution\u001b[39;00m:\n\u001b[1;32m      8\u001b[0m     \u001b[38;5;28;01mdef\u001b[39;00m \u001b[38;5;21misSameTree\u001b[39m(\u001b[38;5;28mself\u001b[39m, p: Optional[TreeNode], q: Optional[TreeNode]) \u001b[38;5;241m-\u001b[39m\u001b[38;5;241m>\u001b[39m \u001b[38;5;28mbool\u001b[39m:\n\u001b[1;32m      9\u001b[0m         p_list \u001b[38;5;241m=\u001b[39m []\n",
      "Cell \u001b[0;32mIn[2], line 8\u001b[0m, in \u001b[0;36mSolution\u001b[0;34m()\u001b[0m\n\u001b[1;32m      7\u001b[0m \u001b[38;5;28;01mclass\u001b[39;00m \u001b[38;5;21;01mSolution\u001b[39;00m:\n\u001b[0;32m----> 8\u001b[0m     \u001b[38;5;28;01mdef\u001b[39;00m \u001b[38;5;21misSameTree\u001b[39m(\u001b[38;5;28mself\u001b[39m, p: \u001b[43mOptional\u001b[49m[TreeNode], q: Optional[TreeNode]) \u001b[38;5;241m-\u001b[39m\u001b[38;5;241m>\u001b[39m \u001b[38;5;28mbool\u001b[39m:\n\u001b[1;32m      9\u001b[0m         p_list \u001b[38;5;241m=\u001b[39m []\n\u001b[1;32m     10\u001b[0m         q_list \u001b[38;5;241m=\u001b[39m []\n",
      "\u001b[0;31mNameError\u001b[0m: name 'Optional' is not defined"
     ]
    }
   ],
   "source": [
    "# Definition for a binary tree node.\n",
    "# class TreeNode:\n",
    "#     def __init__(self, val=0, left=None, right=None):\n",
    "#         self.val = val\n",
    "#         self.left = left\n",
    "#         self.right = right\n",
    "class Solution:\n",
    "    def isSameTree(self, p: Optional[TreeNode], q: Optional[TreeNode]) -> bool:\n",
    "        p_list = []\n",
    "        q_list = []\n",
    "\n",
    "        def helper(node, list_):    # Traverse tree helper function\n",
    "            if not node:\n",
    "                list_.append(None)\n",
    "                return\n",
    "\n",
    "            list_.append(node.val)  # Pre-order append value to the list\n",
    "            helper(node.left, list_)\n",
    "            helper(node.right, list_)\n",
    "        \n",
    "        helper(p, p_list)   # Call helper function on both trees and update their lists\n",
    "        helper(q, q_list)\n",
    "\n",
    "        if len(p_list) != len(q_list):  # The length of the lists are not the same, trees are different\n",
    "            return False\n",
    "\n",
    "        for i in range(len(p_list)):    # Trees are same length, check each value of node to see if the trees are the same\n",
    "            if p_list[i] != q_list[i]:\n",
    "                return False    # Trees are NOT the same\n",
    "        \n",
    "        return True # Trees are the same"
   ]
  },
  {
   "cell_type": "markdown",
   "metadata": {},
   "source": [
    "#### After:"
   ]
  },
  {
   "cell_type": "code",
   "execution_count": null,
   "metadata": {},
   "outputs": [],
   "source": [
    "# Definition for a binary tree node.\n",
    "# class TreeNode:\n",
    "#     def __init__(self, val=0, left=None, right=None):\n",
    "#         self.val = val\n",
    "#         self.left = left\n",
    "#         self.right = right\n",
    "class Solution:\n",
    "    def isSameTree(self, p: Optional[TreeNode], q: Optional[TreeNode]) -> bool:\n",
    "        if not p and not q: # If both trees are empty, return True\n",
    "            return True\n",
    "\n",
    "        if not p or not q or p.val != q.val:    # If one tree is empty or the values of the nodes are not the same,\n",
    "            return False\n",
    "\n",
    "        return (self.isSameTree(p.left, q.left) and self.isSameTree(p.right, q.right))  # Recursively call the function on the left and right nodes of the trees"
   ]
  },
  {
   "cell_type": "markdown",
   "metadata": {},
   "source": [
    "### 144. Binary Tree Preorder Traversal"
   ]
  },
  {
   "cell_type": "markdown",
   "metadata": {},
   "source": [
    "#### Before:"
   ]
  },
  {
   "cell_type": "code",
   "execution_count": null,
   "metadata": {},
   "outputs": [],
   "source": [
    "# Definition for a binary tree node.\n",
    "# class TreeNode:\n",
    "#     def __init__(self, val=0, left=None, right=None):\n",
    "#         self.val = val\n",
    "#         self.left = left\n",
    "#         self.right = right\n",
    "class Solution:\n",
    "    def preorderTraversal(self, root: Optional[TreeNode]) -> List[int]:\n",
    "        my_list = []    # List to return\n",
    "\n",
    "        def helper(node):   # Helper function to traverse the tree\n",
    "            if not node:    # Base case, node is empty, return\n",
    "                return\n",
    "            \n",
    "            my_list.append(node.val)    # Preorder\n",
    "            helper(node.left)\n",
    "            helper(node.right)\n",
    "        \n",
    "        helper(root)    # Call helper\n",
    "\n",
    "        return my_list"
   ]
  },
  {
   "cell_type": "markdown",
   "metadata": {},
   "source": [
    "#### After:"
   ]
  },
  {
   "cell_type": "code",
   "execution_count": null,
   "metadata": {},
   "outputs": [],
   "source": [
    "# Definition for a binary tree node.\n",
    "# class TreeNode:\n",
    "#     def __init__(self, val=0, left=None, right=None):\n",
    "#         self.val = val\n",
    "#         self.left = left\n",
    "#         self.right = right\n",
    "class Solution:\n",
    "    def preorderTraversal(self, root: Optional[TreeNode]) -> List[int]:\n",
    "        curr, stack = root, []\n",
    "        res = []\n",
    "        while curr or stack:\n",
    "            if curr:\n",
    "                res.append(curr.val)\n",
    "                stack.append(curr.right)\n",
    "                curr = curr.left\n",
    "            else:\n",
    "                curr = stack.pop()\n",
    "        return res"
   ]
  },
  {
   "cell_type": "markdown",
   "metadata": {},
   "source": [
    "### 145. Binary Tree Postorder Traversal"
   ]
  },
  {
   "cell_type": "markdown",
   "metadata": {},
   "source": [
    "#### Before:"
   ]
  },
  {
   "cell_type": "code",
   "execution_count": null,
   "metadata": {},
   "outputs": [],
   "source": [
    "# Definition for a binary tree node.\n",
    "# class TreeNode:\n",
    "#     def __init__(self, val=0, left=None, right=None):\n",
    "#         self.val = val\n",
    "#         self.left = left\n",
    "#         self.right = right\n",
    "class Solution:\n",
    "    def postorderTraversal(self, root: Optional[TreeNode]) -> List[int]:\n",
    "        my_list = []    # List to return\n",
    "\n",
    "        def helper(node):   # Helper function to traverse the tree\n",
    "            if not node:    # Base case, node is empty, return\n",
    "                return\n",
    "            \n",
    "            helper(node.left)   # Postorder\n",
    "            helper(node.right)\n",
    "            my_list.append(node.val)\n",
    "        \n",
    "        helper(root)    # Call helper\n",
    "\n",
    "        return my_list"
   ]
  },
  {
   "cell_type": "markdown",
   "metadata": {},
   "source": [
    "#### After:"
   ]
  },
  {
   "cell_type": "code",
   "execution_count": null,
   "metadata": {},
   "outputs": [],
   "source": [
    "# Definition for a binary tree node.\n",
    "# class TreeNode:\n",
    "#     def __init__(self, val=0, left=None, right=None):\n",
    "#         self.val = val\n",
    "#         self.left = left\n",
    "#         self.right = right\n",
    "class Solution:\n",
    "    def postorderTraversal(self, root: Optional[TreeNode]) -> List[int]:\n",
    "        stack = [root]\n",
    "        visited = [False]\n",
    "        res = []\n",
    "\n",
    "        while stack:\n",
    "            curr, v = stack.pop(), visited.pop()\n",
    "\n",
    "            if curr:\n",
    "                if v:\n",
    "                    res.append(curr.val)\n",
    "                else:\n",
    "                    stack.append(curr)\n",
    "                    visited.append(True)\n",
    "                    stack.append(curr.right)\n",
    "                    visited.append(False)\n",
    "                    stack.append(curr.left)\n",
    "                    visited.append(False)\n",
    "        \n",
    "        return res"
   ]
  }
 ],
 "metadata": {
  "kernelspec": {
   "display_name": "Python 3",
   "language": "python",
   "name": "python3"
  },
  "language_info": {
   "codemirror_mode": {
    "name": "ipython",
    "version": 3
   },
   "file_extension": ".py",
   "mimetype": "text/x-python",
   "name": "python",
   "nbconvert_exporter": "python",
   "pygments_lexer": "ipython3",
   "version": "3.10.12"
  }
 },
 "nbformat": 4,
 "nbformat_minor": 2
}
