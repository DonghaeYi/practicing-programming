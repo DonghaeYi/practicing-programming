{
 "cells": [
  {
   "cell_type": "markdown",
   "id": "0dfac95d-d285-4597-8599-9c4a9da20326",
   "metadata": {},
   "source": [
    "# Day 13"
   ]
  },
  {
   "cell_type": "markdown",
   "id": "2de8d093-2b96-43eb-a70a-39e73a4069e4",
   "metadata": {},
   "source": [
    "## LeetCode"
   ]
  },
  {
   "cell_type": "markdown",
   "id": "9ff14a03-b2ca-4496-8c55-26e286857d2a",
   "metadata": {},
   "source": [
    "### 98. Validate Binary Search Tree"
   ]
  },
  {
   "cell_type": "markdown",
   "id": "d1e1b7ad-bff8-44b8-ae5d-0c913ab12f1a",
   "metadata": {},
   "source": [
    "#### Before:"
   ]
  },
  {
   "cell_type": "code",
   "execution_count": 1,
   "id": "8b5eba1f-41d6-4614-96bb-bbf5b6d41758",
   "metadata": {},
   "outputs": [
    {
     "ename": "NameError",
     "evalue": "name 'Optional' is not defined",
     "output_type": "error",
     "traceback": [
      "\u001b[0;31m---------------------------------------------------------------------------\u001b[0m",
      "\u001b[0;31mNameError\u001b[0m                                 Traceback (most recent call last)",
      "Cell \u001b[0;32mIn[1], line 7\u001b[0m\n\u001b[1;32m      1\u001b[0m \u001b[38;5;66;03m# Definition for a binary tree node.\u001b[39;00m\n\u001b[1;32m      2\u001b[0m \u001b[38;5;66;03m# class TreeNode:\u001b[39;00m\n\u001b[1;32m      3\u001b[0m \u001b[38;5;66;03m#     def __init__(self, val=0, left=None, right=None):\u001b[39;00m\n\u001b[1;32m      4\u001b[0m \u001b[38;5;66;03m#         self.val = val\u001b[39;00m\n\u001b[1;32m      5\u001b[0m \u001b[38;5;66;03m#         self.left = left\u001b[39;00m\n\u001b[1;32m      6\u001b[0m \u001b[38;5;66;03m#         self.right = right\u001b[39;00m\n\u001b[0;32m----> 7\u001b[0m \u001b[38;5;28;01mclass\u001b[39;00m \u001b[38;5;21;01mSolution\u001b[39;00m:\n\u001b[1;32m      8\u001b[0m     \u001b[38;5;28;01mdef\u001b[39;00m \u001b[38;5;21misValidBST\u001b[39m(\u001b[38;5;28mself\u001b[39m, root: Optional[TreeNode]) \u001b[38;5;241m-\u001b[39m\u001b[38;5;241m>\u001b[39m \u001b[38;5;28mbool\u001b[39m:\n\u001b[1;32m      9\u001b[0m         in_order_list \u001b[38;5;241m=\u001b[39m []  \u001b[38;5;66;03m# List of values appended\u001b[39;00m\n",
      "Cell \u001b[0;32mIn[1], line 8\u001b[0m, in \u001b[0;36mSolution\u001b[0;34m()\u001b[0m\n\u001b[1;32m      7\u001b[0m \u001b[38;5;28;01mclass\u001b[39;00m \u001b[38;5;21;01mSolution\u001b[39;00m:\n\u001b[0;32m----> 8\u001b[0m     \u001b[38;5;28;01mdef\u001b[39;00m \u001b[38;5;21misValidBST\u001b[39m(\u001b[38;5;28mself\u001b[39m, root: \u001b[43mOptional\u001b[49m[TreeNode]) \u001b[38;5;241m-\u001b[39m\u001b[38;5;241m>\u001b[39m \u001b[38;5;28mbool\u001b[39m:\n\u001b[1;32m      9\u001b[0m         in_order_list \u001b[38;5;241m=\u001b[39m []  \u001b[38;5;66;03m# List of values appended\u001b[39;00m\n\u001b[1;32m     10\u001b[0m         sorted_list \u001b[38;5;241m=\u001b[39m []    \u001b[38;5;66;03m# Also list of values appended that we will sort later\u001b[39;00m\n",
      "\u001b[0;31mNameError\u001b[0m: name 'Optional' is not defined"
     ]
    }
   ],
   "source": [
    "# Definition for a binary tree node.\n",
    "# class TreeNode:\n",
    "#     def __init__(self, val=0, left=None, right=None):\n",
    "#         self.val = val\n",
    "#         self.left = left\n",
    "#         self.right = right\n",
    "class Solution:\n",
    "    def isValidBST(self, root: Optional[TreeNode]) -> bool:\n",
    "        in_order_list = []  # List of values appended\n",
    "        sorted_list = []    # Also list of values appended that we will sort later\n",
    "\n",
    "        def inOrder(node):\n",
    "            if node == None:    # Base case\n",
    "                return\n",
    "\n",
    "            inOrder(node.left)  # In order traversal\n",
    "\n",
    "            in_order_list.append(node.val)\n",
    "            sorted_list.append(node.val)\n",
    "\n",
    "            inOrder(node.right)\n",
    "\n",
    "        inOrder(root)   # Call the recursive function on the root\n",
    "\n",
    "        sorted_list.sort()  # Sort the list to see if it is a valid BST\n",
    "\n",
    "        return in_order_list == sorted_list and len(set(in_order_list)) == len(sorted_list) # We get the set of the list to eliminate duplicates"
   ]
  },
  {
   "cell_type": "markdown",
   "id": "367a0a55-a2d0-40dc-b34f-959323719e1a",
   "metadata": {},
   "source": [
    "#### After:"
   ]
  },
  {
   "cell_type": "code",
   "execution_count": null,
   "id": "17fa61c4-aa0b-4f66-8eb4-59f0e2a87c0d",
   "metadata": {},
   "outputs": [],
   "source": []
  },
  {
   "cell_type": "markdown",
   "id": "8bba06da-b18e-4f61-a3b2-2f038a25503a",
   "metadata": {},
   "source": [
    "###"
   ]
  }
 ],
 "metadata": {
  "kernelspec": {
   "display_name": "Python 3 (ipykernel)",
   "language": "python",
   "name": "python3"
  },
  "language_info": {
   "codemirror_mode": {
    "name": "ipython",
    "version": 3
   },
   "file_extension": ".py",
   "mimetype": "text/x-python",
   "name": "python",
   "nbconvert_exporter": "python",
   "pygments_lexer": "ipython3",
   "version": "3.9.19"
  }
 },
 "nbformat": 4,
 "nbformat_minor": 5
}
