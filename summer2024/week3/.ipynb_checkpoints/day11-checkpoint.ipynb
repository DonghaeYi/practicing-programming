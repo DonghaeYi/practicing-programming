{
 "cells": [
  {
   "cell_type": "markdown",
   "id": "a6c5bf06-1bc4-47e5-b51d-f9a25b506235",
   "metadata": {},
   "source": [
    "# Day 11"
   ]
  },
  {
   "cell_type": "markdown",
   "id": "e3a52bc9-d42c-408a-8727-41a5da16f6ba",
   "metadata": {},
   "source": [
    "## Graphs"
   ]
  },
  {
   "cell_type": "code",
   "execution_count": 1,
   "id": "38cdaf87-4cc8-4dcc-baf6-b800dd034902",
   "metadata": {},
   "outputs": [
    {
     "name": "stdout",
     "output_type": "stream",
     "text": [
      "10 -> 5 -> 15 -> 2 -> 7 -> 12 -> 18 -> 1 -> 3 -> 6 -> 8 -> 11 -> 13 -> 17 -> 20 -> NULL\n"
     ]
    }
   ],
   "source": [
    "# Graph\n",
    "class Graph:\n",
    "    def __init__(self, directed = False):\n",
    "        self.graph = dict()\n",
    "        self.directed = directed\n",
    "        \n",
    "    def insert(self, node1, node2):\n",
    "        if node1 not in self.graph:\n",
    "            self.graph[node1] = {node2}\n",
    "        else:\n",
    "            self.graph[node1].add(node2)\n",
    "    \n",
    "        if node2 not in self.graph:\n",
    "            self.graph[node2] = set()\n",
    "    \n",
    "        if not self.directed:\n",
    "            self.graph[node2].add(node1)\n",
    "\n",
    "    def print(self):\n",
    "        for node in self.graph:\n",
    "            print(node, end = \" -> \")\n",
    "        for subnodes in self.graph[node]:\n",
    "            print(subnodes, end = \" -> \")\n",
    "        print(\"NULL\")\n",
    "\n",
    "    def print_bfs(self, start_node):\n",
    "        if start_node not in self.graph:\n",
    "            raise Exception(\"This node does not exist\")\n",
    "            return\n",
    "        bfs = [start_node]\n",
    "        idx = 0\n",
    "        while idx < len(bfs):\n",
    "            print(bfs[idx], end = \" -> \")\n",
    "            for subnodes in sorted(self.graph[bfs[idx]]):\n",
    "                if subnodes not in bfs:\n",
    "                    bfs.append(subnodes)\n",
    "            idx += 1\n",
    "            \n",
    "        print(\"NULL\")\n",
    "    \n",
    "\n",
    "\n",
    "\n",
    "#         10\n",
    "#      /      \\\n",
    "#     5        15\n",
    "#    / \\      /  \\\n",
    "#   2   7    12   18\n",
    "#  / \\ / \\  / \\   / \\\n",
    "# 1  3 6 8 11 13 17 20\n",
    "\n",
    "tree = Graph(directed = True)\n",
    "tree.insert(10, 15)\n",
    "tree.insert(10, 5)\n",
    "tree.insert(5, 7)\n",
    "tree.insert(5, 2)\n",
    "tree.insert(15, 18)\n",
    "tree.insert(15, 12)\n",
    "tree.insert(2, 3)\n",
    "tree.insert(2, 1)\n",
    "tree.insert(7, 8)\n",
    "tree.insert(7, 6)\n",
    "tree.insert(12, 13)\n",
    "tree.insert(12, 11)\n",
    "tree.insert(18, 20)\n",
    "tree.insert(18, 17)\n",
    "# tree.print()\n",
    "tree.print_bfs(10)\n",
    "\n",
    "\n",
    "\n",
    "\n",
    "\n",
    "\n",
    "\n",
    "\n",
    "\n",
    "\n",
    "\n",
    "\n",
    "# my_list = [10, 20, 25, 35, 50, 60, 65, 75, 90]\n",
    "# test = Graph(directed = True)\n",
    "\n",
    "# for i in range(len(my_list) - 1):\n",
    "#   test.insert(my_list[i], my_list[i + 1])\n",
    "    \n",
    "# test.print()\n",
    "  "
   ]
  }
 ],
 "metadata": {
  "kernelspec": {
   "display_name": "Python 3 (ipykernel)",
   "language": "python",
   "name": "python3"
  },
  "language_info": {
   "codemirror_mode": {
    "name": "ipython",
    "version": 3
   },
   "file_extension": ".py",
   "mimetype": "text/x-python",
   "name": "python",
   "nbconvert_exporter": "python",
   "pygments_lexer": "ipython3",
   "version": "3.9.19"
  }
 },
 "nbformat": 4,
 "nbformat_minor": 5
}
