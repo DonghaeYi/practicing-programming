{
 "cells": [
  {
   "cell_type": "markdown",
   "id": "51a4854e-4abf-47e2-9e2d-d5a75787adb4",
   "metadata": {},
   "source": [
    "# Day 5"
   ]
  },
  {
   "cell_type": "markdown",
   "id": "cdf03471-4c9a-4358-b599-e08c851f6da7",
   "metadata": {},
   "source": [
    "## LeetCode"
   ]
  },
  {
   "cell_type": "markdown",
   "id": "06863f30-7a74-4932-b035-3098692976fa",
   "metadata": {},
   "source": [
    "### 203. Remove Linked List Elements"
   ]
  },
  {
   "cell_type": "markdown",
   "id": "ccd0a6b1-7783-4cad-b4ed-89f4385add09",
   "metadata": {},
   "source": [
    "#### Before:"
   ]
  },
  {
   "cell_type": "code",
   "execution_count": 1,
   "id": "dfc9edf8-70ab-485d-a790-779fbf6e5ef5",
   "metadata": {},
   "outputs": [
    {
     "ename": "NameError",
     "evalue": "name 'Optional' is not defined",
     "output_type": "error",
     "traceback": [
      "\u001b[0;31m---------------------------------------------------------------------------\u001b[0m",
      "\u001b[0;31mNameError\u001b[0m                                 Traceback (most recent call last)",
      "Cell \u001b[0;32mIn[1], line 6\u001b[0m\n\u001b[1;32m      1\u001b[0m \u001b[38;5;66;03m# Definition for singly-linked list.\u001b[39;00m\n\u001b[1;32m      2\u001b[0m \u001b[38;5;66;03m# class ListNode:\u001b[39;00m\n\u001b[1;32m      3\u001b[0m \u001b[38;5;66;03m#     def __init__(self, val=0, next=None):\u001b[39;00m\n\u001b[1;32m      4\u001b[0m \u001b[38;5;66;03m#         self.val = val\u001b[39;00m\n\u001b[1;32m      5\u001b[0m \u001b[38;5;66;03m#         self.next = next\u001b[39;00m\n\u001b[0;32m----> 6\u001b[0m \u001b[38;5;28;01mclass\u001b[39;00m \u001b[38;5;21;01mSolution\u001b[39;00m:\n\u001b[1;32m      7\u001b[0m     \u001b[38;5;28;01mdef\u001b[39;00m \u001b[38;5;21mremoveElements\u001b[39m(\u001b[38;5;28mself\u001b[39m, head: Optional[ListNode], val: \u001b[38;5;28mint\u001b[39m) \u001b[38;5;241m-\u001b[39m\u001b[38;5;241m>\u001b[39m Optional[ListNode]:\n\u001b[1;32m      8\u001b[0m         dummy \u001b[38;5;241m=\u001b[39m ListNode()  \u001b[38;5;66;03m# Create dummy node that goes in front of the head\u001b[39;00m\n",
      "Cell \u001b[0;32mIn[1], line 7\u001b[0m, in \u001b[0;36mSolution\u001b[0;34m()\u001b[0m\n\u001b[1;32m      6\u001b[0m \u001b[38;5;28;01mclass\u001b[39;00m \u001b[38;5;21;01mSolution\u001b[39;00m:\n\u001b[0;32m----> 7\u001b[0m     \u001b[38;5;28;01mdef\u001b[39;00m \u001b[38;5;21mremoveElements\u001b[39m(\u001b[38;5;28mself\u001b[39m, head: \u001b[43mOptional\u001b[49m[ListNode], val: \u001b[38;5;28mint\u001b[39m) \u001b[38;5;241m-\u001b[39m\u001b[38;5;241m>\u001b[39m Optional[ListNode]:\n\u001b[1;32m      8\u001b[0m         dummy \u001b[38;5;241m=\u001b[39m ListNode()  \u001b[38;5;66;03m# Create dummy node that goes in front of the head\u001b[39;00m\n\u001b[1;32m      9\u001b[0m         dummy\u001b[38;5;241m.\u001b[39mnext \u001b[38;5;241m=\u001b[39m head\n",
      "\u001b[0;31mNameError\u001b[0m: name 'Optional' is not defined"
     ]
    }
   ],
   "source": [
    "# Definition for singly-linked list.\n",
    "# class ListNode:\n",
    "#     def __init__(self, val=0, next=None):\n",
    "#         self.val = val\n",
    "#         self.next = next\n",
    "class Solution:\n",
    "    def removeElements(self, head: Optional[ListNode], val: int) -> Optional[ListNode]:\n",
    "        dummy = ListNode()  # Create dummy node that goes in front of the head\n",
    "        dummy.next = head\n",
    "        prev, curr = dummy, head    # Set prev and curr\n",
    "        while curr: # Traverse to the end\n",
    "            if curr.val == val: # Found target, remove node from list\n",
    "                prev.next = curr.next   # Set correct links\n",
    "            else:\n",
    "                prev = curr # Traverse prev\n",
    "            curr = curr.next    # Traverse the list\n",
    "        return dummy.next   # This is the head"
   ]
  },
  {
   "cell_type": "markdown",
   "id": "f8e1e84d-d68d-4823-9220-9a49dcfb7894",
   "metadata": {},
   "source": [
    "#### After:"
   ]
  },
  {
   "cell_type": "code",
   "execution_count": null,
   "id": "7f64e8aa-79ec-48d8-964b-dde7157138bd",
   "metadata": {},
   "outputs": [],
   "source": [
    "# Definition for singly-linked list.\n",
    "# class ListNode:\n",
    "#     def __init__(self, val=0, next=None):\n",
    "#         self.val = val\n",
    "#         self.next = next\n",
    "class Solution:\n",
    "    def removeElements(self, head: Optional[ListNode], val: int) -> Optional[ListNode]:\n",
    "        dummy = ListNode(next=head)  # Create dummy node that goes in front of the head\n",
    "        prev, curr = dummy, head    # Set prev and curr\n",
    "\n",
    "        while curr: # Traverse to the end\n",
    "            nxt = curr.next\n",
    "\n",
    "            if curr.val == val: # Found target, remove node from list\n",
    "                prev.next = nxt   # Set correct links\n",
    "            else:\n",
    "                prev = curr # Traverse prev\n",
    "            curr = nxt    # Traverse the list\n",
    "        return dummy.next   # This is the head"
   ]
  },
  {
   "cell_type": "markdown",
   "id": "c284f5b3-4c5b-41ec-8ea3-ddd240eaa431",
   "metadata": {},
   "source": [
    "### 58. Length of Last Word"
   ]
  },
  {
   "cell_type": "markdown",
   "id": "56ca21f0-aee7-4128-9d70-95d951098cfe",
   "metadata": {},
   "source": [
    "#### Before:"
   ]
  },
  {
   "cell_type": "code",
   "execution_count": null,
   "id": "69b450a3-4723-4554-a149-7b2a2c3f5e54",
   "metadata": {},
   "outputs": [],
   "source": [
    "class Solution:\n",
    "    def lengthOfLastWord(self, s: str) -> int:\n",
    "        x = s.split()   # Use a built-in function to parse the string and put the strings into a list\n",
    "        return len(x[len(x) - 1])   # Access the last string in the list and return the length"
   ]
  },
  {
   "cell_type": "markdown",
   "id": "9c071702-c842-4704-af05-b1c1ab40ec93",
   "metadata": {},
   "source": [
    "#### After:"
   ]
  },
  {
   "cell_type": "code",
   "execution_count": null,
   "id": "8f40b783-ef37-44cf-88a6-f6a04ab0bb5f",
   "metadata": {},
   "outputs": [],
   "source": [
    "class Solution:\n",
    "    def lengthOfLastWord(self, s: str) -> int:\n",
    "        i, length = len(s) - 1, 0\n",
    "\n",
    "        while s[i] == \" \":\n",
    "            i -= 1\n",
    "        while i >= 0 and s[i] != \" \":\n",
    "            length += 1\n",
    "            i -= 1\n",
    "        return length"
   ]
  }
 ],
 "metadata": {
  "kernelspec": {
   "display_name": "Python 3 (ipykernel)",
   "language": "python",
   "name": "python3"
  },
  "language_info": {
   "codemirror_mode": {
    "name": "ipython",
    "version": 3
   },
   "file_extension": ".py",
   "mimetype": "text/x-python",
   "name": "python",
   "nbconvert_exporter": "python",
   "pygments_lexer": "ipython3",
   "version": "3.9.19"
  }
 },
 "nbformat": 4,
 "nbformat_minor": 5
}
