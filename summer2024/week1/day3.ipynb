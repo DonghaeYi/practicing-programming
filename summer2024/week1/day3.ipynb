{
 "cells": [
  {
   "cell_type": "markdown",
   "id": "04b20783-539b-44b3-834c-d2d2810dc28c",
   "metadata": {},
   "source": [
    "# Day 3"
   ]
  },
  {
   "cell_type": "markdown",
   "id": "036db2a6-5359-42af-a375-18e3635a3855",
   "metadata": {},
   "source": [
    "## LeetCode"
   ]
  },
  {
   "cell_type": "markdown",
   "id": "a880a035-bb34-4eb0-996e-c2c977ab2be5",
   "metadata": {},
   "source": [
    "### 1. Two Sum"
   ]
  },
  {
   "cell_type": "markdown",
   "id": "77d5abc4-e6b9-4b0e-80e4-27a4868bc582",
   "metadata": {},
   "source": [
    "#### Before:"
   ]
  },
  {
   "cell_type": "code",
   "execution_count": 1,
   "id": "26b1bd13-893c-4207-acaf-a9b7429ce608",
   "metadata": {},
   "outputs": [
    {
     "ename": "NameError",
     "evalue": "name 'List' is not defined",
     "output_type": "error",
     "traceback": [
      "\u001b[0;31m---------------------------------------------------------------------------\u001b[0m",
      "\u001b[0;31mNameError\u001b[0m                                 Traceback (most recent call last)",
      "Cell \u001b[0;32mIn[1], line 1\u001b[0m\n\u001b[0;32m----> 1\u001b[0m \u001b[38;5;28;01mclass\u001b[39;00m \u001b[38;5;21;01mSolution\u001b[39;00m:\n\u001b[1;32m      2\u001b[0m     \u001b[38;5;28;01mdef\u001b[39;00m \u001b[38;5;21mtwoSum\u001b[39m(\u001b[38;5;28mself\u001b[39m, nums: List[\u001b[38;5;28mint\u001b[39m], target: \u001b[38;5;28mint\u001b[39m) \u001b[38;5;241m-\u001b[39m\u001b[38;5;241m>\u001b[39m List[\u001b[38;5;28mint\u001b[39m]:    \u001b[38;5;66;03m# Brute force\u001b[39;00m\n\u001b[1;32m      3\u001b[0m         \u001b[38;5;28;01mfor\u001b[39;00m i \u001b[38;5;129;01min\u001b[39;00m \u001b[38;5;28mrange\u001b[39m(\u001b[38;5;28mlen\u001b[39m(nums)):  \u001b[38;5;66;03m# Check from index 0 to the end of the list\u001b[39;00m\n",
      "Cell \u001b[0;32mIn[1], line 2\u001b[0m, in \u001b[0;36mSolution\u001b[0;34m()\u001b[0m\n\u001b[1;32m      1\u001b[0m \u001b[38;5;28;01mclass\u001b[39;00m \u001b[38;5;21;01mSolution\u001b[39;00m:\n\u001b[0;32m----> 2\u001b[0m     \u001b[38;5;28;01mdef\u001b[39;00m \u001b[38;5;21mtwoSum\u001b[39m(\u001b[38;5;28mself\u001b[39m, nums: \u001b[43mList\u001b[49m[\u001b[38;5;28mint\u001b[39m], target: \u001b[38;5;28mint\u001b[39m) \u001b[38;5;241m-\u001b[39m\u001b[38;5;241m>\u001b[39m List[\u001b[38;5;28mint\u001b[39m]:    \u001b[38;5;66;03m# Brute force\u001b[39;00m\n\u001b[1;32m      3\u001b[0m         \u001b[38;5;28;01mfor\u001b[39;00m i \u001b[38;5;129;01min\u001b[39;00m \u001b[38;5;28mrange\u001b[39m(\u001b[38;5;28mlen\u001b[39m(nums)):  \u001b[38;5;66;03m# Check from index 0 to the end of the list\u001b[39;00m\n\u001b[1;32m      4\u001b[0m             \u001b[38;5;28;01mfor\u001b[39;00m j \u001b[38;5;129;01min\u001b[39;00m \u001b[38;5;28mrange\u001b[39m(i \u001b[38;5;241m+\u001b[39m \u001b[38;5;241m1\u001b[39m, \u001b[38;5;28mlen\u001b[39m(nums)):   \u001b[38;5;66;03m# Skip the first element to not add to itself. Check iterateively till we get the first solution\u001b[39;00m\n",
      "\u001b[0;31mNameError\u001b[0m: name 'List' is not defined"
     ]
    }
   ],
   "source": [
    "class Solution:\n",
    "    def twoSum(self, nums: List[int], target: int) -> List[int]:    # Brute force\n",
    "        for i in range(len(nums)):  # Check from index 0 to the end of the list\n",
    "            for j in range(i + 1, len(nums)):   # Skip the first element to not add to itself. Check iterateively till we get the first solution\n",
    "                if nums[i] + nums[j] == target: # Found target\n",
    "                    return [i, j]"
   ]
  },
  {
   "cell_type": "markdown",
   "id": "342abcf5-f5dd-47c1-a411-17d84bc77862",
   "metadata": {},
   "source": [
    "#### After:"
   ]
  },
  {
   "cell_type": "code",
   "execution_count": null,
   "id": "d04056ab-a83a-41f7-b8c2-8557625e3ae6",
   "metadata": {},
   "outputs": [],
   "source": []
  },
  {
   "cell_type": "markdown",
   "id": "e93a1373-259d-4a72-bba6-076ec62103dd",
   "metadata": {},
   "source": [
    "### 9. Palindrome Number"
   ]
  },
  {
   "cell_type": "markdown",
   "id": "0a4e0f9b-1556-4cd8-8a7d-2710fd79f4cf",
   "metadata": {},
   "source": [
    "#### Before:"
   ]
  },
  {
   "cell_type": "code",
   "execution_count": null,
   "id": "b34cdcdb-8c59-4673-908a-5e2863cdef3f",
   "metadata": {},
   "outputs": [],
   "source": [
    "class Solution:\n",
    "    def isPalindrome(self, x: int) -> bool:\n",
    "        x_string = str(x)   # Change x into a string to get the number of digits and compare each character\n",
    "        start = 0   # Starting index\n",
    "        end = len(x_string) - 1 # Get number of digits and set the end index\n",
    "        while x_string[start] == x_string[end]: # as long as the digit in the start and end index are the same\n",
    "            if start >= end:    # Start index and end index overlapped. This determines the end of the check\n",
    "                return True # This is a Palindrome Number\n",
    "            start += 1  # Increment starting index\n",
    "            end -= 1    # Decrement ending index\n",
    "        return False    # This is not a Palindrome Number"
   ]
  },
  {
   "cell_type": "markdown",
   "id": "2fa8b473-56e9-4f9e-9232-a909f32876d9",
   "metadata": {},
   "source": [
    "#### After:"
   ]
  },
  {
   "cell_type": "code",
   "execution_count": null,
   "id": "fff37662-8b75-4384-afcf-87fdc68fbc47",
   "metadata": {},
   "outputs": [],
   "source": []
  },
  {
   "cell_type": "markdown",
   "id": "539c9909-fe6a-4dfe-839e-27ed62c8b3e7",
   "metadata": {},
   "source": [
    "### 21. Merge Two Sorted Lists"
   ]
  },
  {
   "cell_type": "markdown",
   "id": "29a3c154-2a15-445b-a31b-1bc5abbb9b23",
   "metadata": {},
   "source": [
    "#### Before:"
   ]
  },
  {
   "cell_type": "code",
   "execution_count": null,
   "id": "d53b177d-ddd3-4467-af7c-096b831fa2b0",
   "metadata": {},
   "outputs": [],
   "source": [
    "# Definition for singly-linked list.\n",
    "# class ListNode:\n",
    "#     def __init__(self, val=0, next=None):\n",
    "#         self.val = val\n",
    "#         self.next = next\n",
    "class Solution:\n",
    "    def mergeTwoLists(self, list1: Optional[ListNode], list2: Optional[ListNode]) -> Optional[ListNode]:\n",
    "        if list1 is None:  # list1 is empty, return list2\n",
    "            return list2\n",
    "        if list2 is None:    # list2 is empty, return list1\n",
    "            return list1\n",
    "        if list1 is None and list2 is None: # Both lists are empty, return None\n",
    "            return None\n",
    "        if list1.val <= list2.val:  # Lists not empty, merge\n",
    "            merged_head = list1 # New head\n",
    "            list1 = list1.next\n",
    "        else:   # Start the list with the lower value head\n",
    "            merged_head = list2\n",
    "            list2 = list2.next\n",
    "        curr = merged_head  # Curr is used to keep track of current node\n",
    "        while list1 and list2:  # Until one list comes to an end\n",
    "            if list1.val <= list2.val: # Whichever is smaller gets attached next\n",
    "                curr.next = list1\n",
    "                list1 = list1.next\n",
    "            else: \n",
    "                curr.next = list2\n",
    "                list2 = list2.next\n",
    "            curr = curr.next    # Keep track of current node\n",
    "        if list1:   # We reached the end of one or both of the lists. If there remains a floating list, attach the rest of those nodes to the merged list\n",
    "            curr.next = list1\n",
    "        elif list2:\n",
    "            curr.next = list2\n",
    "        return merged_head  # Return merged list"
   ]
  },
  {
   "cell_type": "markdown",
   "id": "5f7edf79-78c1-4536-9ef0-12075be683c6",
   "metadata": {},
   "source": [
    "#### After:"
   ]
  },
  {
   "cell_type": "code",
   "execution_count": null,
   "id": "6a749e56-99e0-4612-b991-4292c1ebbef9",
   "metadata": {},
   "outputs": [],
   "source": []
  }
 ],
 "metadata": {
  "kernelspec": {
   "display_name": "Python 3 (ipykernel)",
   "language": "python",
   "name": "python3"
  },
  "language_info": {
   "codemirror_mode": {
    "name": "ipython",
    "version": 3
   },
   "file_extension": ".py",
   "mimetype": "text/x-python",
   "name": "python",
   "nbconvert_exporter": "python",
   "pygments_lexer": "ipython3",
   "version": "3.9.19"
  }
 },
 "nbformat": 4,
 "nbformat_minor": 5
}
