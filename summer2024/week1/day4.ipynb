{
 "cells": [
  {
   "cell_type": "markdown",
   "id": "4fe7bb7c-0ca0-4594-b690-069dd130dab9",
   "metadata": {},
   "source": [
    "# Day 4"
   ]
  },
  {
   "cell_type": "markdown",
   "id": "be3de915-e7d7-49a6-b689-88db1bf7f1ee",
   "metadata": {},
   "source": [
    "## LeetCode"
   ]
  },
  {
   "cell_type": "markdown",
   "id": "10349adf-8a40-422d-a2b1-7f185401dc50",
   "metadata": {},
   "source": [
    "### 27. Remove Element"
   ]
  },
  {
   "cell_type": "markdown",
   "id": "b2e8d421-8075-4db2-840b-4581f4dca574",
   "metadata": {},
   "source": [
    "#### Before:"
   ]
  },
  {
   "cell_type": "code",
   "execution_count": 1,
   "id": "66a25dbe-ee44-41d1-ad17-c7346e71b6ae",
   "metadata": {},
   "outputs": [
    {
     "ename": "NameError",
     "evalue": "name 'List' is not defined",
     "output_type": "error",
     "traceback": [
      "\u001b[0;31m---------------------------------------------------------------------------\u001b[0m",
      "\u001b[0;31mNameError\u001b[0m                                 Traceback (most recent call last)",
      "Cell \u001b[0;32mIn[1], line 1\u001b[0m\n\u001b[0;32m----> 1\u001b[0m \u001b[38;5;28;01mclass\u001b[39;00m \u001b[38;5;21;01mSolution\u001b[39;00m:\n\u001b[1;32m      2\u001b[0m     \u001b[38;5;28;01mdef\u001b[39;00m \u001b[38;5;21mremoveElement\u001b[39m(\u001b[38;5;28mself\u001b[39m, nums: List[\u001b[38;5;28mint\u001b[39m], val: \u001b[38;5;28mint\u001b[39m) \u001b[38;5;241m-\u001b[39m\u001b[38;5;241m>\u001b[39m \u001b[38;5;28mint\u001b[39m:\n\u001b[1;32m      3\u001b[0m         offset \u001b[38;5;241m=\u001b[39m \u001b[38;5;241m0\u001b[39m  \u001b[38;5;66;03m# Offset to get correct indicies\u001b[39;00m\n",
      "Cell \u001b[0;32mIn[1], line 2\u001b[0m, in \u001b[0;36mSolution\u001b[0;34m()\u001b[0m\n\u001b[1;32m      1\u001b[0m \u001b[38;5;28;01mclass\u001b[39;00m \u001b[38;5;21;01mSolution\u001b[39;00m:\n\u001b[0;32m----> 2\u001b[0m     \u001b[38;5;28;01mdef\u001b[39;00m \u001b[38;5;21mremoveElement\u001b[39m(\u001b[38;5;28mself\u001b[39m, nums: \u001b[43mList\u001b[49m[\u001b[38;5;28mint\u001b[39m], val: \u001b[38;5;28mint\u001b[39m) \u001b[38;5;241m-\u001b[39m\u001b[38;5;241m>\u001b[39m \u001b[38;5;28mint\u001b[39m:\n\u001b[1;32m      3\u001b[0m         offset \u001b[38;5;241m=\u001b[39m \u001b[38;5;241m0\u001b[39m  \u001b[38;5;66;03m# Offset to get correct indicies\u001b[39;00m\n\u001b[1;32m      4\u001b[0m         idx_arr \u001b[38;5;241m=\u001b[39m []    \u001b[38;5;66;03m# Store indices\u001b[39;00m\n",
      "\u001b[0;31mNameError\u001b[0m: name 'List' is not defined"
     ]
    }
   ],
   "source": [
    "class Solution:\n",
    "    def removeElement(self, nums: List[int], val: int) -> int:\n",
    "        offset = 0  # Offset to get correct indicies\n",
    "        idx_arr = []    # Store indices\n",
    "        for i in range(len(nums)):\n",
    "            if nums[i] == val:  # When you find val, remove element\n",
    "                idx_arr.append(i + offset)  # Add index to list\n",
    "                offset -= 1 # Change offset for next index\n",
    "\n",
    "        for i in idx_arr:\n",
    "            nums.pop(i) # Remove val at correct indices of nums\n",
    "        return len(nums)    # Return new length of nums"
   ]
  },
  {
   "cell_type": "markdown",
   "id": "83625e9c-2a3b-4244-a921-ac7d68a5440e",
   "metadata": {},
   "source": [
    "#### After:"
   ]
  },
  {
   "cell_type": "code",
   "execution_count": null,
   "id": "74eb4611-d4e8-4efd-9e15-dfa4d6460127",
   "metadata": {},
   "outputs": [],
   "source": [
    "class Solution:\n",
    "    def removeElement(self, nums: List[int], val: int) -> int:\n",
    "        k = 0\n",
    "\n",
    "        for i in range(len(nums)):\n",
    "            if nums[i] != val:\n",
    "                nums[k] = nums[i]\n",
    "                k += 1\n",
    "        return k"
   ]
  },
  {
   "cell_type": "markdown",
   "id": "c8c1e3e6-eee2-42cd-a4f9-38be7fe867a7",
   "metadata": {},
   "source": [
    "### 35. Search Insert Position"
   ]
  },
  {
   "cell_type": "markdown",
   "id": "3f9985f9-f5e6-4329-ac52-ec209e8de062",
   "metadata": {},
   "source": [
    "#### Before:"
   ]
  },
  {
   "cell_type": "code",
   "execution_count": null,
   "id": "7c8551c1-f2cc-4e43-b259-a735ac29d4f1",
   "metadata": {},
   "outputs": [],
   "source": [
    "class Solution:\n",
    "    def searchInsert(self, nums: List[int], target: int) -> int:\n",
    "        for i in range(len(nums)):  # Search for target\n",
    "            if target == nums[i]:   # Target found\n",
    "                return i    # Return index where target found\n",
    "\n",
    "        idx = 0 # Index we will return\n",
    "        if target not in nums:  # Target is not in the list\n",
    "            for i in range(len(nums)):  # Find which index target should be inserted in\n",
    "                if nums[i] < target:    # Target is bigger than the number in the list \n",
    "                    idx += 1    # Go to next index\n",
    "                    continue\n",
    "                else:   # Target is bigger than (technically also equal to, but that won't matter. This is because if it is equal to, it would have been found in the list in the first for loop) the number in the index\n",
    "                    if i == len(nums):  # We got to the end of the list\n",
    "                        return i\n",
    "        return idx  # Return the index where the target should go"
   ]
  },
  {
   "cell_type": "markdown",
   "id": "077c6e29-eec4-49ba-b89f-297b77e2e52a",
   "metadata": {},
   "source": [
    "#### After:"
   ]
  },
  {
   "cell_type": "code",
   "execution_count": null,
   "id": "731eb0f4-5245-4278-8d0b-79416e8c3281",
   "metadata": {},
   "outputs": [],
   "source": [
    "class Solution:\n",
    "    def searchInsert(self, nums: List[int], target: int) -> int:\n",
    "        # log(n)\n",
    "        l, r = 0, len(nums) - 1\n",
    "\n",
    "        while l <= r:   # Binary Search\n",
    "            mid = (l + r) // 2\n",
    "\n",
    "            if target == nums[mid]:\n",
    "                return mid\n",
    "            \n",
    "            if target > nums[mid]:\n",
    "                l = mid + 1\n",
    "            else:\n",
    "                r = mid - 1\n",
    "\n",
    "        return l"
   ]
  }
 ],
 "metadata": {
  "kernelspec": {
   "display_name": "Python 3 (ipykernel)",
   "language": "python",
   "name": "python3"
  },
  "language_info": {
   "codemirror_mode": {
    "name": "ipython",
    "version": 3
   },
   "file_extension": ".py",
   "mimetype": "text/x-python",
   "name": "python",
   "nbconvert_exporter": "python",
   "pygments_lexer": "ipython3",
   "version": "3.9.19"
  }
 },
 "nbformat": 4,
 "nbformat_minor": 5
}
