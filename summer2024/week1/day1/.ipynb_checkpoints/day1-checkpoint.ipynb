{
 "cells": [
  {
   "cell_type": "code",
   "execution_count": 1,
   "id": "25151923-0cbf-445c-a893-8cc263a4215c",
   "metadata": {},
   "outputs": [
    {
     "name": "stdout",
     "output_type": "stream",
     "text": [
      "     /|\n",
      "    / |\n",
      "   /  |\n",
      "  /   |\n",
      " /____|\n"
     ]
    }
   ],
   "source": [
    "# creating variables\n",
    "# arrays\n",
    "# dictionaries\n",
    "# lists\n",
    "# control flow (if/else)\n",
    "# loops (for and while)\n",
    "# inputs and outputs\n",
    "# functions\n",
    "# classes\n",
    "\n",
    "print(\"     /|\")\n",
    "print(\"    / |\")\n",
    "print(\"   /  |\")\n",
    "print(\"  /   |\")\n",
    "print(\" /____|\")"
   ]
  },
  {
   "cell_type": "markdown",
   "id": "c6758d58-d000-485a-9864-25ab6afe3215",
   "metadata": {},
   "source": [
    "### Variables"
   ]
  },
  {
   "cell_type": "code",
   "execution_count": 2,
   "id": "21493a74-8b48-493d-84e9-e3a4e112ed8c",
   "metadata": {},
   "outputs": [
    {
     "name": "stdout",
     "output_type": "stream",
     "text": [
      "1\n",
      "1.2\n",
      "Donghae\n",
      "<class 'int'>\n",
      "<class 'str'>\n",
      "1.0\n"
     ]
    }
   ],
   "source": [
    "# int \n",
    "num = 1\n",
    "print(num)\n",
    "\n",
    "# float\n",
    "number = 1.2\n",
    "print(number)\n",
    "\n",
    "# string\n",
    "name = \"Donghae\"\n",
    "print(name)\n",
    "\n",
    "# variables may change type\n",
    "num = 1\n",
    "print(type(num))\n",
    "num = \"one\"\n",
    "print(type(num))\n",
    "\n",
    "# specify variable type by casting\n",
    "num = float(1)\n",
    "print(num)"
   ]
  },
  {
   "cell_type": "markdown",
   "id": "428d9661-d56f-44d1-9e29-73982984a27e",
   "metadata": {},
   "source": [
    "### Arrays/Lists"
   ]
  },
  {
   "cell_type": "code",
   "execution_count": 3,
   "id": "482c1e09-71fb-4bd4-aebe-c2f1e5811f1a",
   "metadata": {},
   "outputs": [
    {
     "name": "stdout",
     "output_type": "stream",
     "text": [
      "[1, 2, 3] \n",
      "\n",
      "[1, 2, 3, True]\n",
      "[1, 2, 3] \n",
      "\n",
      "[1, 2, 3, 'yes']\n",
      "[1, 2, 3] \n",
      "\n",
      "1 2 \n",
      "\n",
      "1\n",
      "2\n",
      "3\n",
      "\n",
      "This is the number of items in the array: 3\n"
     ]
    }
   ],
   "source": [
    "# array\n",
    "example_array = [1, 2, 3]\n",
    "print(example_array, \"\\n\") # print array\n",
    "\n",
    "# append to the array\n",
    "example_array.append(True) \n",
    "print(example_array)\n",
    "\n",
    "# pop element at index\n",
    "example_array.pop(3) \n",
    "print(example_array, \"\\n\")\n",
    "\n",
    "\n",
    "example_array.append(\"yes\")\n",
    "print(example_array)\n",
    "\n",
    " # remove value \"yes\" from the array\n",
    "example_array.remove(\"yes\")\n",
    "print(example_array, \"\\n\")\n",
    "\n",
    "a, b, c = example_array\n",
    "print(a, b, \"\\n\") # print some elements in array\n",
    "\n",
    "for i in example_array:\n",
    "    print(i) # print element in array iteratively\n",
    "\n",
    "print(\"\\nThis is the number of items in the array:\", len(example_array))"
   ]
  },
  {
   "cell_type": "markdown",
   "id": "0115110f-59e8-4437-9864-c638e609a134",
   "metadata": {},
   "source": [
    "### Dictionaries"
   ]
  },
  {
   "cell_type": "code",
   "execution_count": 4,
   "id": "a8450e76-3ca1-4f74-b88f-2e0210be20a2",
   "metadata": {},
   "outputs": [
    {
     "name": "stdout",
     "output_type": "stream",
     "text": [
      "{'brand': 'Toyota', 'model': 'Tundra', 'year': 2023}\n",
      "Toyota\n",
      "Tundra\n",
      "2023 \n",
      "\n",
      "3 \n",
      "\n",
      "{'name': 'Donghae', 'age': 26, 'country': 'USA'}\n"
     ]
    }
   ],
   "source": [
    "car_dict = {\n",
    "    \"brand\" : \"Toyota\",\n",
    "    \"model\" : \"Tundra\",\n",
    "    \"year\" : 2023\n",
    "}\n",
    "print(car_dict)\n",
    "print(car_dict[\"brand\"])\n",
    "print(car_dict[\"model\"])\n",
    "print(car_dict[\"year\"], \"\\n\")\n",
    "print(len(car_dict), \"\\n\")\n",
    "\n",
    "this_dict = dict(name = \"Donghae\", age = 26, country = \"USA\")\n",
    "print(this_dict)"
   ]
  },
  {
   "cell_type": "markdown",
   "id": "bedb5ff2-0cd8-486e-b732-c9babda30606",
   "metadata": {},
   "source": [
    "### Control Flow"
   ]
  },
  {
   "cell_type": "code",
   "execution_count": 5,
   "id": "b175e590-a984-4a62-ae8c-55db72a1c7a3",
   "metadata": {},
   "outputs": [
    {
     "name": "stdout",
     "output_type": "stream",
     "text": [
      "a is greater than b\n",
      "I will pass\n",
      "I am in nested if/else\n"
     ]
    }
   ],
   "source": [
    "a = 300\n",
    "b = 100\n",
    "c = 100\n",
    "\n",
    "if a > b:\n",
    "    print(\"a is greater than b\")\n",
    "elif a == b:\n",
    "    print(\"a is equal to b\")\n",
    "else:\n",
    "    print(\"a is less than b\")\n",
    "\n",
    "# nested if/else and pass\n",
    "d = 0\n",
    "e = 0\n",
    "\n",
    "if d == 0: \n",
    "    print(\"I will pass\")\n",
    "    pass  \n",
    "else:\n",
    "    print(\"I didn't pass\")\n",
    "    \n",
    "if e == 0:\n",
    "    if d == 0:\n",
    "        print(\"I am in nested if/else\")"
   ]
  },
  {
   "cell_type": "markdown",
   "id": "d9707a9e-6315-4289-b979-36b4f16bcb70",
   "metadata": {},
   "source": [
    "### Loops"
   ]
  },
  {
   "cell_type": "code",
   "execution_count": 6,
   "id": "bc273fba-02b4-442e-888d-06cb70926aeb",
   "metadata": {},
   "outputs": [
    {
     "name": "stdout",
     "output_type": "stream",
     "text": [
      "0 1 2 3 4 \n",
      "\n",
      "0 1 2 3 4 5 6 \n",
      "i is no longer less than or equal to 6\n",
      "\n",
      "batman\n",
      "\n",
      "apple banana cherry "
     ]
    }
   ],
   "source": [
    "# while loops\n",
    "# break statement\n",
    "i = 0\n",
    "while i <= 6:\n",
    "    print(i, end = \" \")\n",
    "    if i == 4:\n",
    "        break \n",
    "    i += 1\n",
    "else:\n",
    "    print(\"i is no longer less than or equal to 6\\n\")\n",
    "\n",
    "print(\"\\n\")\n",
    "\n",
    "# continue statement and else statement\n",
    "i = 0\n",
    "while i <= 6:\n",
    "    print(i, end = \" \")\n",
    "    if i == 4:\n",
    "        i += 1\n",
    "        continue \n",
    "    i += 1\n",
    "else:\n",
    "    print(\"\\ni is no longer less than or equal to 6\\n\")\n",
    "\n",
    "# for loops\n",
    "# for loop through string\n",
    "for i in \"batman\":\n",
    "    print(i, end = \"\")\n",
    "print(\"\\n\")\n",
    "\n",
    "# for loop through list\n",
    "fruits = [\"apple\", \"banana\", \"cherry\"]\n",
    "\n",
    "for i in fruits:\n",
    "    print(i, end = \" \")"
   ]
  },
  {
   "cell_type": "markdown",
   "id": "25357be4-f6cb-431e-9a8f-b08f57d139e9",
   "metadata": {},
   "source": [
    "### Inputs and Outputs"
   ]
  },
  {
   "cell_type": "code",
   "execution_count": 7,
   "id": "54b30a93-39ba-4149-bdef-f880309e1b5d",
   "metadata": {},
   "outputs": [
    {
     "name": "stdin",
     "output_type": "stream",
     "text": [
      "Give me input:  donghaeyi\n"
     ]
    },
    {
     "name": "stdout",
     "output_type": "stream",
     "text": [
      "donghaeyi\n"
     ]
    }
   ],
   "source": [
    "inp = input(\"Give me input: \")\n",
    "print(inp) "
   ]
  },
  {
   "cell_type": "markdown",
   "id": "4ba2b26d-fe2c-46b9-9d91-0c466a0851b7",
   "metadata": {},
   "source": [
    "### Functions"
   ]
  },
  {
   "cell_type": "code",
   "execution_count": 8,
   "id": "a1018a77-0453-4988-88c3-715224144bd4",
   "metadata": {},
   "outputs": [
    {
     "name": "stdout",
     "output_type": "stream",
     "text": [
      "500\n"
     ]
    }
   ],
   "source": [
    "def addition(a, b):\n",
    "    return a+b\n",
    "\n",
    "a = 200\n",
    "b = 300\n",
    "print(addition(a,b))"
   ]
  },
  {
   "cell_type": "markdown",
   "id": "b9270266-a7a4-4d77-a023-2f5be0b791b8",
   "metadata": {},
   "source": [
    "### Classes"
   ]
  },
  {
   "cell_type": "code",
   "execution_count": 9,
   "id": "ee521ddb-38fb-4276-a703-278cb9bcc04b",
   "metadata": {},
   "outputs": [
    {
     "name": "stdout",
     "output_type": "stream",
     "text": [
      "9\n",
      "0\n",
      "-1\n",
      "0\n",
      "20\n",
      "0\n",
      "Error, cannot divide by 0\n",
      "6.666666666666667\n"
     ]
    }
   ],
   "source": [
    "class Calculator:\n",
    "    def add(self, a, b):\n",
    "        return a+b\n",
    "    \n",
    "    def subtract(self, a, b):\n",
    "        return a-b\n",
    "    \n",
    "    def multiply(self, a, b):\n",
    "        return a*b\n",
    "    \n",
    "    def divide(self, a, b):\n",
    "        if b == 0:\n",
    "            print(\"Error, cannot divide by 0\")\n",
    "            return\n",
    "        else:\n",
    "            return a/b\n",
    "\n",
    "test = Calculator()\n",
    "print(test.add(4, 5))\n",
    "print(test.add(4, -4))\n",
    "print(test.subtract(4, 5))\n",
    "print(test.subtract(5, 5))\n",
    "print(test.multiply(4, 5))\n",
    "print(test.multiply(0, 0))\n",
    "test.divide(0, 0)\n",
    "print(test.divide(20, 3))"
   ]
  }
 ],
 "metadata": {
  "kernelspec": {
   "display_name": "Python 3 (ipykernel)",
   "language": "python",
   "name": "python3"
  },
  "language_info": {
   "codemirror_mode": {
    "name": "ipython",
    "version": 3
   },
   "file_extension": ".py",
   "mimetype": "text/x-python",
   "name": "python",
   "nbconvert_exporter": "python",
   "pygments_lexer": "ipython3",
   "version": "3.9.19"
  }
 },
 "nbformat": 4,
 "nbformat_minor": 5
}
