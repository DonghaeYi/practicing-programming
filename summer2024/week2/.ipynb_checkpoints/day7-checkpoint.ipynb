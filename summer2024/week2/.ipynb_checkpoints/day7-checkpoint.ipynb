{
 "cells": [
  {
   "cell_type": "markdown",
   "id": "c5347d9f-186d-4480-865c-245fcf2c8e67",
   "metadata": {},
   "source": [
    "# Day 7"
   ]
  },
  {
   "cell_type": "markdown",
   "id": "784467fe-4c7a-4b71-8249-925dc36eaa5e",
   "metadata": {},
   "source": [
    "## Trees"
   ]
  },
  {
   "cell_type": "code",
   "execution_count": 1,
   "id": "f76a49a1-e38d-4ca4-91c5-a2c0d751d182",
   "metadata": {},
   "outputs": [],
   "source": [
    "  #         10\n",
    "  #      /      \\\n",
    "  #     5        15\n",
    "  #    / \\      /  \\\n",
    "  #   2   7    12   18\n",
    "  #  / \\ / \\  / \\   / \\\n",
    "  # 1  3 6 8 11 13 17 20"
   ]
  },
  {
   "cell_type": "code",
   "execution_count": 2,
   "id": "b64fb7a2-deea-42e6-b1f2-3d5f0ead2818",
   "metadata": {},
   "outputs": [
    {
     "name": "stdout",
     "output_type": "stream",
     "text": [
      "10 --> 5 --> 15 --> 2 --> 7 --> 12 --> 18 --> 1 --> 3 --> 6 --> 8 --> 11 --> 13 --> 17 --> 20 --> END\n"
     ]
    }
   ],
   "source": [
    "# Creating tree data structure\n",
    "class Node:\n",
    "    def __init__(self):\n",
    "        self.val = 0\n",
    "        self.left = None\n",
    "        self.right = None\n",
    "        is_visited = False\n",
    "\n",
    "    def set(self, val):\n",
    "        self.val = val\n",
    "\n",
    "    def set_left(self, left_):\n",
    "        self.left = Node()\n",
    "        self.left.set(left_)\n",
    "\n",
    "    def set_right(self, right_):\n",
    "        self.right = Node()\n",
    "        self.right.set(right_)\n",
    "\n",
    "    def get(self):\n",
    "        return self.val\n",
    "\n",
    "    def get_left(self):\n",
    "        return self.left\n",
    "\n",
    "    def get_right(self):\n",
    "        return self.right\n",
    "\n",
    "class Tree:\n",
    "    def __init__(self):\n",
    "        self.root = None\n",
    "\n",
    "    def insert(self, val_):\n",
    "        if self.root == None:\n",
    "            self.root = Node()\n",
    "            self.root.val = val_\n",
    "            return\n",
    "            \n",
    "        prev = None\n",
    "        curr = self.root\n",
    "        is_left = True\n",
    "        \n",
    "        while True:\n",
    "            if curr == None:\n",
    "                curr = Node()\n",
    "                curr.val = val_\n",
    "                if is_left:\n",
    "                    prev.set_left(val_)\n",
    "                else:\n",
    "                    prev.set_right(val_)\n",
    "                break\n",
    "                print(curr.val)\n",
    "            elif curr.val > val_:\n",
    "                prev = curr\n",
    "                curr = curr.get_left()\n",
    "                is_left = True\n",
    "            else:\n",
    "                prev = curr\n",
    "                curr = curr.get_right()\n",
    "                is_left = False\n",
    "        \n",
    "    def print_bfs(self):\n",
    "        bfs = []\n",
    "        curr = self.root\n",
    "        idx = 0\n",
    "        bfs.append(curr)\n",
    "        \n",
    "        while idx < len(bfs):\n",
    "            idx += 1\n",
    "            if curr.get_left():\n",
    "                bfs.append(curr.get_left())\n",
    "            if curr.get_right():\n",
    "                bfs.append(curr.get_right())\n",
    "            if idx != len(bfs):\n",
    "                curr = bfs[idx]\n",
    "                \n",
    "        for i in bfs:\n",
    "            print(f\"{i.val} --> \", end=\"\")\n",
    "        print(\"END\")\n",
    "\n",
    "\n",
    "# Test functions\n",
    "test = Tree()\n",
    "my_list = [10, 5, 15, 2, 7, 12, 18, 1, 3, 6, 8, 11, 13, 17, 20]\n",
    "for i in my_list:\n",
    "    test.insert(i)\n",
    "test.print_bfs()"
   ]
  },
  {
   "cell_type": "markdown",
   "id": "c7c8ffa5-4dc8-460d-a650-42f96a09bfb8",
   "metadata": {},
   "source": [
    "### BFS"
   ]
  },
  {
   "cell_type": "code",
   "execution_count": 3,
   "id": "61f7e487-c242-4cf0-8d2f-0329c64f4f63",
   "metadata": {},
   "outputs": [],
   "source": [
    "# FIFO Queue\n",
    "bfs = [10, 5, 15, 2, 7, 12, 18, 1, 3, 6, 8, 11, 13, 17, 20]"
   ]
  },
  {
   "cell_type": "markdown",
   "id": "8216ab8f-0753-4cb6-988d-30b012885d3e",
   "metadata": {},
   "source": [
    "### DFS"
   ]
  },
  {
   "cell_type": "code",
   "execution_count": 4,
   "id": "122e799b-73ff-422d-acc7-2c290b565351",
   "metadata": {},
   "outputs": [],
   "source": [
    "# LIFO Stack\n",
    "dfs = [10, 5, 2, 1, 3, 7, 6, 8, 15, 12, 11, 13, 18, 17, 20]\n",
    "# Useful for finding Min/Max value\n",
    "\n",
    "\n",
    "# Add left node to stack\n",
    "# If no left node, add right node\n",
    "# If no right node, pop"
   ]
  },
  {
   "cell_type": "code",
   "execution_count": 5,
   "id": "439a2f4c-1233-4cc9-aa1b-b28d87ea21db",
   "metadata": {},
   "outputs": [],
   "source": [
    "# # Graph\n",
    "# import graphviz\n",
    "\n",
    "# # Create a new Digraph (directed graph) object\n",
    "# dot = graphviz.Digraph()\n",
    "\n",
    "# # Add nodes and edges\n",
    "# dot.node('A', '10')\n",
    "# dot.node('B', '5')\n",
    "# dot.node('C', '15')\n",
    "# dot.node('D', '2')\n",
    "# dot.node('E', '7')\n",
    "# dot.node('F', '12')\n",
    "# dot.node('G', '18')\n",
    "# dot.node('H', '1')\n",
    "# dot.node('I', '3')\n",
    "# dot.node('J', '6')\n",
    "# dot.node('K', '8')\n",
    "# dot.node('L', '11')\n",
    "# dot.node('M', '13')\n",
    "# dot.node('N', '17')\n",
    "# dot.node('O', '20')\n",
    "\n",
    "# dot.edges(['AB', 'AC', 'BD', 'BE', 'CF', 'CG', 'DH', 'DI', 'EJ', 'EK', 'FL', 'FM', 'GN', 'GO'])\n",
    "\n",
    "# # Render the graph\n",
    "# dot"
   ]
  }
 ],
 "metadata": {
  "kernelspec": {
   "display_name": "Python 3 (ipykernel)",
   "language": "python",
   "name": "python3"
  },
  "language_info": {
   "codemirror_mode": {
    "name": "ipython",
    "version": 3
   },
   "file_extension": ".py",
   "mimetype": "text/x-python",
   "name": "python",
   "nbconvert_exporter": "python",
   "pygments_lexer": "ipython3",
   "version": "3.9.19"
  }
 },
 "nbformat": 4,
 "nbformat_minor": 5
}
