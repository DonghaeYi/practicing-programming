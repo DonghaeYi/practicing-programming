{
 "cells": [
  {
   "cell_type": "markdown",
   "metadata": {},
   "source": [
    "# Day 9"
   ]
  },
  {
   "cell_type": "markdown",
   "metadata": {},
   "source": [
    "## LeetCode"
   ]
  },
  {
   "cell_type": "markdown",
   "metadata": {},
   "source": [
    "### 26. Remove Duplicates From Sorted Array"
   ]
  },
  {
   "cell_type": "markdown",
   "metadata": {},
   "source": [
    "#### Before:"
   ]
  },
  {
   "cell_type": "code",
   "execution_count": 1,
   "metadata": {},
   "outputs": [
    {
     "ename": "NameError",
     "evalue": "name 'List' is not defined",
     "output_type": "error",
     "traceback": [
      "\u001b[0;31m---------------------------------------------------------------------------\u001b[0m",
      "\u001b[0;31mNameError\u001b[0m                                 Traceback (most recent call last)",
      "Cell \u001b[0;32mIn[1], line 1\u001b[0m\n\u001b[0;32m----> 1\u001b[0m \u001b[38;5;28;01mclass\u001b[39;00m \u001b[38;5;21;01mSolution\u001b[39;00m:\n\u001b[1;32m      2\u001b[0m     \u001b[38;5;28;01mdef\u001b[39;00m \u001b[38;5;21mremoveDuplicates\u001b[39m(\u001b[38;5;28mself\u001b[39m, nums: List[\u001b[38;5;28mint\u001b[39m]) \u001b[38;5;241m-\u001b[39m\u001b[38;5;241m>\u001b[39m \u001b[38;5;28mint\u001b[39m:\n\u001b[1;32m      3\u001b[0m         \u001b[38;5;28;01mfor\u001b[39;00m i \u001b[38;5;129;01min\u001b[39;00m nums:\n",
      "Cell \u001b[0;32mIn[1], line 2\u001b[0m, in \u001b[0;36mSolution\u001b[0;34m()\u001b[0m\n\u001b[1;32m      1\u001b[0m \u001b[38;5;28;01mclass\u001b[39;00m \u001b[38;5;21;01mSolution\u001b[39;00m:\n\u001b[0;32m----> 2\u001b[0m     \u001b[38;5;28;01mdef\u001b[39;00m \u001b[38;5;21mremoveDuplicates\u001b[39m(\u001b[38;5;28mself\u001b[39m, nums: \u001b[43mList\u001b[49m[\u001b[38;5;28mint\u001b[39m]) \u001b[38;5;241m-\u001b[39m\u001b[38;5;241m>\u001b[39m \u001b[38;5;28mint\u001b[39m:\n\u001b[1;32m      3\u001b[0m         \u001b[38;5;28;01mfor\u001b[39;00m i \u001b[38;5;129;01min\u001b[39;00m nums:\n\u001b[1;32m      4\u001b[0m             \u001b[38;5;28;01mwhile\u001b[39;00m nums\u001b[38;5;241m.\u001b[39mcount(i) \u001b[38;5;241m>\u001b[39m \u001b[38;5;241m1\u001b[39m:   \u001b[38;5;66;03m# If the number appears more than one time, remove it from the list\u001b[39;00m\n",
      "\u001b[0;31mNameError\u001b[0m: name 'List' is not defined"
     ]
    }
   ],
   "source": [
    "class Solution:\n",
    "    def removeDuplicates(self, nums: List[int]) -> int:\n",
    "        for i in nums:\n",
    "            while nums.count(i) > 1:   # If the number appears more than one time, remove it from the list\n",
    "                nums.remove(i)\n",
    "        return len(nums)"
   ]
  },
  {
   "cell_type": "markdown",
   "metadata": {},
   "source": [
    "#### After:"
   ]
  },
  {
   "cell_type": "code",
   "execution_count": null,
   "metadata": {},
   "outputs": [],
   "source": [
    "class Solution:\n",
    "    def removeDuplicates(self, nums: List[int]) -> int:\n",
    "        if len(nums) == 0:  # Empty list, LeetCode doesn't check this\n",
    "            return 0\n",
    "\n",
    "        l = 1\n",
    "\n",
    "        for r in range(1, len(nums)):\n",
    "            if nums[r] != nums[r - 1]:\n",
    "                nums[l] = nums[r]\n",
    "                l += 1\n",
    "        \n",
    "        return l"
   ]
  },
  {
   "cell_type": "markdown",
   "metadata": {},
   "source": [
    "### 28. Find the Index of the First Occurrence in a String"
   ]
  },
  {
   "cell_type": "markdown",
   "metadata": {},
   "source": [
    "#### Before:"
   ]
  },
  {
   "cell_type": "code",
   "execution_count": null,
   "metadata": {},
   "outputs": [],
   "source": [
    "# ------------------------------------------------------------------------------ ERROR !!! READ ME ------------------------------------------------------------------------------\n",
    "# This is incorrect, I am missing an edge case or something that fails test cases\n",
    "class Solution:\n",
    "    def strStr(self, haystack: str, needle: str) -> int:\n",
    "        first = -1\n",
    "        idx = 0\n",
    "        if len(haystack) < len(needle) or len(needle) == 0 or len(haystack) == 0: # Edge cases\n",
    "            return first\n",
    "        for i in range(len(haystack)):  # Loop through each character in haystack\n",
    "            if haystack[i] == needle[idx]:  # Character match\n",
    "                if idx == 0:    # Update the first occurrence and keep this index, to be returned if all matched\n",
    "                    first = i\n",
    "                idx += 1    # Iterate needle index to check next character\n",
    "                if idx == len(needle):  # Checked all characters\n",
    "                    return first    # Needle in haystack, return the index\n",
    "            else:\n",
    "                idx = 0 # Reset all indices\n",
    "                first = -1\n",
    "                if haystack[i] == needle[idx]:  # Character match after a previous mismatch\n",
    "                    first = i\n",
    "                    idx += 1\n",
    "        return first\n",
    "\n",
    "# This would be a correct solution\n",
    "class Solution:\n",
    "    def strStr(self, haystack: str, needle: str) -> int:\n",
    "        if needle == \"\":\n",
    "            return 0\n",
    "        \n",
    "        for i in range(len(haystack) + 1 - len(needle)):\n",
    "            for j in range(len(needle)):\n",
    "                if haystack[i + j] != needle[j]:\n",
    "                    break\n",
    "                if j == len(needle) - 1:\n",
    "                    return i\n",
    "                    \n",
    "        return -1"
   ]
  },
  {
   "cell_type": "markdown",
   "metadata": {},
   "source": [
    "#### After:"
   ]
  },
  {
   "cell_type": "code",
   "execution_count": null,
   "metadata": {},
   "outputs": [],
   "source": [
    "class Solution:\n",
    "    def strStr(self, haystack: str, needle: str) -> int:\n",
    "        if needle == \"\":\n",
    "            return 0\n",
    "        \n",
    "        for i in range(len(haystack) + 1 - len(needle)):\n",
    "            if haystack[i: i + len(needle)] == needle:\n",
    "                return i\n",
    "\n",
    "        return -1"
   ]
  }
 ],
 "metadata": {
  "kernelspec": {
   "display_name": "Python 3 (ipykernel)",
   "language": "python",
   "name": "python3"
  },
  "language_info": {
   "codemirror_mode": {
    "name": "ipython",
    "version": 3
   },
   "file_extension": ".py",
   "mimetype": "text/x-python",
   "name": "python",
   "nbconvert_exporter": "python",
   "pygments_lexer": "ipython3",
   "version": "3.9.19"
  }
 },
 "nbformat": 4,
 "nbformat_minor": 4
}
