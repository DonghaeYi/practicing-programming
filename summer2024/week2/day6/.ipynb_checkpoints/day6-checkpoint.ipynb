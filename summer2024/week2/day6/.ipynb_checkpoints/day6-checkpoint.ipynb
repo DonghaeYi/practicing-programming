{
 "cells": [
  {
   "cell_type": "markdown",
   "id": "e6bbd1c7-87fd-4702-aa22-6ad48cbac9b4",
   "metadata": {},
   "source": [
    "# Day 6"
   ]
  },
  {
   "cell_type": "code",
   "execution_count": null,
   "id": "54aa502e-43e0-467c-a085-725233da1aad",
   "metadata": {},
   "outputs": [],
   "source": []
  }
 ],
 "metadata": {
  "kernelspec": {
   "display_name": "Python 3 (ipykernel)",
   "language": "python",
   "name": "python3"
  },
  "language_info": {
   "codemirror_mode": {
    "name": "ipython",
    "version": 3
   },
   "file_extension": ".py",
   "mimetype": "text/x-python",
   "name": "python",
   "nbconvert_exporter": "python",
   "pygments_lexer": "ipython3",
   "version": "3.9.19"
  }
 },
 "nbformat": 4,
 "nbformat_minor": 5
}
