{
 "cells": [
  {
   "cell_type": "markdown",
   "id": "cbf1aaf2-10f1-43ac-9ca8-b96b77283579",
   "metadata": {},
   "source": [
    "# Day 8"
   ]
  },
  {
   "cell_type": "markdown",
   "id": "72fabe19-aa38-4d88-a42f-c81c5e83fcd4",
   "metadata": {},
   "source": [
    "## Continue Trees"
   ]
  },
  {
   "cell_type": "code",
   "execution_count": 1,
   "id": "86490806-ec68-448f-8806-bb377811fc2b",
   "metadata": {},
   "outputs": [],
   "source": [
    "  #         10\n",
    "  #      /      \\\n",
    "  #     5        15\n",
    "  #    / \\      /  \\\n",
    "  #   2   7    12   18\n",
    "  #  / \\ / \\  / \\   / \\\n",
    "  # 1  3 6 8 11 13 17 20"
   ]
  },
  {
   "cell_type": "code",
   "execution_count": 2,
   "id": "9f22710f-e8e4-4dd9-9895-a27445849d60",
   "metadata": {},
   "outputs": [
    {
     "name": "stdout",
     "output_type": "stream",
     "text": [
      "1 --> 2 --> 3 --> 5 --> 6 --> 7 --> 8 --> 10 --> 11 --> 12 --> 13 --> 15 --> 17 --> 18 --> 20 --> END\n",
      "10 --> 5 --> 2 --> 1 --> 3 --> 7 --> 6 --> 8 --> 15 --> 12 --> 11 --> 13 --> 18 --> 17 --> 20 --> END\n"
     ]
    }
   ],
   "source": [
    "# Tree Recursively\n",
    "class Node:\n",
    "    def __init__(self, val_=0):\n",
    "        self.val = val_\n",
    "        self.left = None\n",
    "        self.right = None\n",
    "\n",
    "class Tree:\n",
    "    def __init__(self):\n",
    "        self.root = None\n",
    "\n",
    "    def add_node_helper(self, node_, val):\n",
    "        if node_ is None:\n",
    "            return Node(val)\n",
    "        if val < node_.val:\n",
    "            node_.left = self.add_node_helper(node_.left, val)\n",
    "        else:\n",
    "            node_.right = self.add_node_helper(node_.right, val)\n",
    "        return node_\n",
    "            \n",
    "    def add_node(self, val):\n",
    "        self.root = self.add_node_helper(self.root, val)\n",
    "\n",
    "    def print_dfs(self): # dfs print\n",
    "        if self.root is None: # Empty list\n",
    "            print(\"EMPTY\")\n",
    "            return\n",
    "            \n",
    "        dfs = [] # Stack\n",
    "        curr = self.root # First element\n",
    "        dfs.append(curr)\n",
    "        \n",
    "        while dfs: # While stack not empty\n",
    "            curr = dfs[-1] # curr is the last item in the stack\n",
    "            dfs.pop()\n",
    "            print(f\"{curr.val} --> \", end=\"\")\n",
    "            \n",
    "            if curr.right is not None: # Append the right first, then left to put the right value to the bottom of the stack\n",
    "                dfs.append(curr.right)\n",
    "            if curr.left is not None:\n",
    "                dfs.append(curr.left)\n",
    "            \n",
    "        print(\"END\")\n",
    "\n",
    "    def print_tree_helper(self, node_): # in-order print\n",
    "        if node_ is None:\n",
    "            return\n",
    "        self.print_tree_helper(node_.left)\n",
    "        print(f\"{node_.val} --> \", end=\"\")\n",
    "        self.print_tree_helper(node_.right)\n",
    "    \n",
    "    def print_tree(self):\n",
    "        if self.root is None:\n",
    "            print(\"No nodes\")\n",
    "            return\n",
    "        self.print_tree_helper(self.root)\n",
    "        print(\"END\")\n",
    "        \n",
    "\n",
    "# Test functions\n",
    "test = Tree()\n",
    "my_list = [10, 5, 15, 2, 7, 12, 18, 1, 3, 6, 8, 11, 13, 17, 20]\n",
    "for i in my_list:\n",
    "    test.add_node(i)\n",
    "test.print_tree()\n",
    "test.print_dfs()"
   ]
  }
 ],
 "metadata": {
  "kernelspec": {
   "display_name": "Python 3 (ipykernel)",
   "language": "python",
   "name": "python3"
  },
  "language_info": {
   "codemirror_mode": {
    "name": "ipython",
    "version": 3
   },
   "file_extension": ".py",
   "mimetype": "text/x-python",
   "name": "python",
   "nbconvert_exporter": "python",
   "pygments_lexer": "ipython3",
   "version": "3.9.19"
  }
 },
 "nbformat": 4,
 "nbformat_minor": 5
}
